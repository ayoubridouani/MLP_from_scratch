{
 "cells": [
  {
   "cell_type": "markdown",
   "metadata": {},
   "source": [
    "## Deep Neural Network (Multilayer perceptron (MLP))"
   ]
  },
  {
   "cell_type": "markdown",
   "metadata": {},
   "source": [
    "<span>A neural network with 1 hidden layer (3 units): </span>\n",
    "<img src=\"NN.png\">"
   ]
  },
  {
   "cell_type": "markdown",
   "metadata": {},
   "source": [
    "<span> Algorithm used: </span>\n",
    "<img src=\"MLP-algo.png\">"
   ]
  },
  {
   "cell_type": "code",
   "execution_count": 1,
   "metadata": {},
   "outputs": [],
   "source": [
    "import numpy as np"
   ]
  },
  {
   "cell_type": "code",
   "execution_count": 2,
   "metadata": {},
   "outputs": [],
   "source": [
    "class NeuralNetwork:\n",
    "    def __init__(self):\n",
    "        # parametrs\n",
    "        self.inputSize = 2\n",
    "        self.hiddenSize = 4\n",
    "        self.outputSize = 1\n",
    "        \n",
    "        # weights\n",
    "        self.W1 = np.random.rand(self.inputSize,self.hiddenSize)\n",
    "        # print('W1 = ',self.W1)\n",
    "        self.W2 = np.random.rand(self.hiddenSize,self.outputSize)\n",
    "        # print('W2 = ',self.W2)\n",
    "        \n",
    "        # bias\n",
    "        self.B1 = np.random.rand(self.hiddenSize,1)\n",
    "        # print('B1 = ',self.B1)\n",
    "        self.B2 = np.random.rand(self.outputSize,1)\n",
    "        # print('B2 = ',self.B2)\n",
    "    \n",
    "    \n",
    "    def sigmoid(self,Z):\n",
    "        return 1 / (1 + np.exp((-1) * Z))\n",
    "    \n",
    "    \n",
    "    def dev_sigmoid(self,Z):\n",
    "        return Z * (1 - Z)\n",
    "    \n",
    "    \n",
    "    def forwardPropagation(self,X):\n",
    "        self.z1 = np.dot(X,self.W1) + self.B1.T\n",
    "        # print(\"z1 = \",self.z1)\n",
    "        self.a1 = self.sigmoid(self.z1)\n",
    "        # print(\"a1 = \",self.a1)\n",
    "        \n",
    "        self.z2 = np.dot(self.a1,self.W2) + self.B2.T\n",
    "        # print(\"z2= \",self.z2)\n",
    "        self.a2 = self.sigmoid(self.z2)\n",
    "        # print(\"a2= \",self.a2)\n",
    "        \n",
    "        return self.a2\n",
    "        \n",
    "    \n",
    "    def backwardPropagation(self,X,y):\n",
    "        self.a2_error = self.a2 - y\n",
    "        # print(\"a2_error= \",self.a2_error)\n",
    "        self.a2_delta = self.dev_sigmoid(self.a2) * self.a2_error\n",
    "        # print(\"a2_delta= \",self.a2_delta)\n",
    "        \n",
    "        self.a1_error = np.dot(self.a2_delta,self.W2.T)\n",
    "        # print(\"a1_error= \",self.a1_error)\n",
    "        self.a1_delta = self.dev_sigmoid(self.a1) * self.a1_error\n",
    "        # print(\"z1_delta= \",self.z1_delta)\n",
    "        \n",
    "        self.W2 -= np.dot(self.a1.T,self.a2_delta)\n",
    "        self.W1 -= np.dot(X.T,self.a1_delta)\n",
    "        \n",
    "        \n",
    "    def train(self,X,y):\n",
    "        y_pred = self.forwardPropagation(X)\n",
    "        self.backwardPropagation(X,y)\n",
    "        return y_pred"
   ]
  },
  {
   "cell_type": "code",
   "execution_count": 3,
   "metadata": {},
   "outputs": [
    {
     "name": "stdout",
     "output_type": "stream",
     "text": [
      "[[0.]\n",
      " [0.]\n",
      " [0.]\n",
      " [1.]]\n"
     ]
    }
   ],
   "source": [
    "# AND\n",
    "\n",
    "X = np.array([[0,0],[0,1],[1,0],[1,1]])\n",
    "y = np.array([[0],[0],[0],[1]])\n",
    "\n",
    "nn = NeuralNetwork()\n",
    "\n",
    "for i in range(4000):\n",
    "    y_pred = nn.train(X,y)\n",
    "\n",
    "print(np.round(y_pred))"
   ]
  },
  {
   "cell_type": "code",
   "execution_count": 4,
   "metadata": {},
   "outputs": [
    {
     "name": "stdout",
     "output_type": "stream",
     "text": [
      "[[0.]\n",
      " [1.]\n",
      " [1.]\n",
      " [1.]]\n"
     ]
    }
   ],
   "source": [
    "# OR\n",
    "\n",
    "X = np.array([[0,0],[0,1],[1,0],[1,1]])\n",
    "y = np.array([[0],[1],[1],[1]])\n",
    "\n",
    "nn = NeuralNetwork()\n",
    "\n",
    "for i in range(4000):\n",
    "    y_pred = nn.train(X,y)\n",
    "\n",
    "print(np.round(y_pred))"
   ]
  },
  {
   "cell_type": "code",
   "execution_count": 5,
   "metadata": {},
   "outputs": [
    {
     "name": "stdout",
     "output_type": "stream",
     "text": [
      "[[0.]\n",
      " [1.]\n",
      " [1.]\n",
      " [0.]]\n"
     ]
    }
   ],
   "source": [
    "# XOR\n",
    "\n",
    "X = np.array([[0,0],[0,1],[1,0],[1,1]])\n",
    "y = np.array([[0],[1],[1],[0]])\n",
    "\n",
    "nn = NeuralNetwork()\n",
    "\n",
    "for i in range(4000):\n",
    "    y_pred = nn.train(X,y)\n",
    "\n",
    "print(np.round(y_pred))"
   ]
  },
  {
   "cell_type": "code",
   "execution_count": 6,
   "metadata": {},
   "outputs": [
    {
     "name": "stdout",
     "output_type": "stream",
     "text": [
      "[[1.]\n",
      " [0.]\n",
      " [0.]\n",
      " [1.]]\n"
     ]
    }
   ],
   "source": [
    "# NXOR\n",
    "\n",
    "X = np.array([[0,0],[0,1],[1,0],[1,1]])\n",
    "y = np.array([[1],[0],[0],[1]])\n",
    "\n",
    "nn = NeuralNetwork()\n",
    "\n",
    "for i in range(4000):\n",
    "    y_pred = nn.train(X,y)\n",
    "\n",
    "print(np.round(y_pred))"
   ]
  }
 ],
 "metadata": {
  "kernelspec": {
   "display_name": "Python 3",
   "language": "python",
   "name": "python3"
  },
  "language_info": {
   "codemirror_mode": {
    "name": "ipython",
    "version": 3
   },
   "file_extension": ".py",
   "mimetype": "text/x-python",
   "name": "python",
   "nbconvert_exporter": "python",
   "pygments_lexer": "ipython3",
   "version": "3.7.4"
  }
 },
 "nbformat": 4,
 "nbformat_minor": 4
}
